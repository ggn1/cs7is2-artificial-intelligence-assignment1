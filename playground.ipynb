{
 "cells": [
  {
   "cell_type": "markdown",
   "metadata": {},
   "source": [
    "# Playground"
   ]
  },
  {
   "cell_type": "markdown",
   "metadata": {},
   "source": [
    "This is a safe space where failure is allowed. Eventually, success will come!"
   ]
  },
  {
   "cell_type": "code",
   "execution_count": 13,
   "metadata": {},
   "outputs": [
    {
     "name": "stdout",
     "output_type": "stream",
     "text": [
      "The autoreload extension is already loaded. To reload it, use:\n",
      "  %reload_ext autoreload\n"
     ]
    }
   ],
   "source": [
    "%load_ext autoreload\n",
    "%autoreload 2\n",
    "\n",
    "import os\n",
    "import math\n",
    "import numpy as np\n",
    "from glob import glob\n",
    "from matplotlib import pyplot as plt\n",
    "from value_iteration import value_iteration\n",
    "from maze import Maze, load_maze, save_maze, draw_maze\n",
    "from utility import extract_solution_mdp, get_complete_maze_dim_limit, get_best_reward"
   ]
  },
  {
   "cell_type": "code",
   "execution_count": 2,
   "metadata": {},
   "outputs": [
    {
     "name": "stdout",
     "output_type": "stream",
     "text": [
      "Max dim = 134\n"
     ]
    }
   ],
   "source": [
    "epsilon = 1e-6\n",
    "gamma = 0.99\n",
    "max_dim = get_complete_maze_dim_limit(epsilon=epsilon, gamma=gamma)\n",
    "print('Max dim =', max_dim)"
   ]
  },
  {
   "cell_type": "code",
   "execution_count": 3,
   "metadata": {},
   "outputs": [
    {
     "name": "stdout",
     "output_type": "stream",
     "text": [
      "Reward = 8.037405824570388e+57\n"
     ]
    }
   ],
   "source": [
    "dim = 60\n",
    "reward = get_best_reward(dim=dim, epsilon=epsilon, gamma=gamma)\n",
    "print('Reward =', reward)"
   ]
  },
  {
   "cell_type": "code",
   "execution_count": 9,
   "metadata": {},
   "outputs": [
    {
     "name": "stdout",
     "output_type": "stream",
     "text": [
      "269 x 269\n"
     ]
    }
   ],
   "source": [
    "epsilon = 1e-6\n",
    "gamma = 0.99\n",
    "dim = get_complete_maze_dim_limit(epsilon, gamma)\n",
    "w = h = (dim*2)+1\n",
    "print (f\"{w} x {h}\")"
   ]
  },
  {
   "cell_type": "code",
   "execution_count": 1,
   "metadata": {},
   "outputs": [],
   "source": [
    "# out_dir = './__temp'\n",
    "# out_file = 'size101_1'\n",
    "# maze = Maze(\n",
    "#     matrix=load_maze(path='./__mazes/size101/1.json'), \n",
    "#     max_gamma=0.99, min_epsilon=1e-6\n",
    "# )\n",
    "# res = value_iteration(\n",
    "#     maze=maze, out_dir=out_dir, out_file=out_file, \n",
    "#     gamma=0.99, epsilon=1e-6\n",
    "# )\n",
    "# solution = extract_solution_mdp(\n",
    "#     maze=maze, policy=res['policy'], \n",
    "#     out_dir=out_dir, out_file=out_file\n",
    "# )\n",
    "# draw_maze(\n",
    "#     maze=maze.matrix, solution=solution,\n",
    "#     save={'dir':out_dir, 'filename': out_file, 'animation':False}\n",
    "# )"
   ]
  },
  {
   "cell_type": "code",
   "execution_count": 75,
   "metadata": {},
   "outputs": [],
   "source": [
    "# m = Maze(matrix=load_maze(path=\"./__mazes/size15/1.json\"))\n",
    "# draw_maze(maze=m.matrix, save={'dir':'./__mazes/size15', 'filename':'1', 'animation':False})"
   ]
  }
 ],
 "metadata": {
  "kernelspec": {
   "display_name": "ds-ml",
   "language": "python",
   "name": "python3"
  },
  "language_info": {
   "codemirror_mode": {
    "name": "ipython",
    "version": 3
   },
   "file_extension": ".py",
   "mimetype": "text/x-python",
   "name": "python",
   "nbconvert_exporter": "python",
   "pygments_lexer": "ipython3",
   "version": "3.12.1"
  }
 },
 "nbformat": 4,
 "nbformat_minor": 2
}
