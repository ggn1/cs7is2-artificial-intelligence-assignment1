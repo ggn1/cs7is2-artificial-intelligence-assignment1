{
 "cells": [
  {
   "cell_type": "markdown",
   "metadata": {},
   "source": [
    "# Playground"
   ]
  },
  {
   "cell_type": "markdown",
   "metadata": {},
   "source": [
    "This is a safe space where failure is allowed. Eventually, success will come!"
   ]
  },
  {
   "cell_type": "code",
   "execution_count": 1,
   "metadata": {},
   "outputs": [],
   "source": [
    "# Imports\n",
    "%load_ext autoreload\n",
    "%autoreload 2\n",
    "import glob\n",
    "import os"
   ]
  },
  {
   "cell_type": "code",
   "execution_count": 2,
   "metadata": {},
   "outputs": [
    {
     "data": {
      "text/plain": [
       "1"
      ]
     },
     "execution_count": 2,
     "metadata": {},
     "output_type": "execute_result"
    }
   ],
   "source": [
    "l = [1, 2, 4]\n",
    "l.pop(0)"
   ]
  },
  {
   "cell_type": "code",
   "execution_count": 2,
   "metadata": {},
   "outputs": [],
   "source": [
    "# for i in [2, 3, 4, 6, 8, 9, 10, 12, 14, 15, 16, 18, 20, 23, 26, 30, 31, 32]:\n",
    "#     for p in glob.glob(f'./__mazes/size17/{i}*'):\n",
    "#         os.remove(p)"
   ]
  },
  {
   "cell_type": "code",
   "execution_count": 4,
   "metadata": {},
   "outputs": [],
   "source": [
    "# for p in glob.glob('./__mazes/size21/*_dfs.gif'):\n",
    "#     os.remove(p)\n",
    "\n",
    "# for p in glob.glob('./__mazes/size21/*_dfs.png'):\n",
    "#     os.remove(p)\n",
    "\n",
    "# for p in glob.glob('./__mazes/size21/*_dfs.txt'):\n",
    "#     os.remove(p)"
   ]
  }
 ],
 "metadata": {
  "kernelspec": {
   "display_name": "ds-ml",
   "language": "python",
   "name": "python3"
  },
  "language_info": {
   "codemirror_mode": {
    "name": "ipython",
    "version": 3
   },
   "file_extension": ".py",
   "mimetype": "text/x-python",
   "name": "python",
   "nbconvert_exporter": "python",
   "pygments_lexer": "ipython3",
   "version": "3.12.1"
  }
 },
 "nbformat": 4,
 "nbformat_minor": 2
}
